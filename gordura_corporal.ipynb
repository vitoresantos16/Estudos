{
  "nbformat": 4,
  "nbformat_minor": 0,
  "metadata": {
    "colab": {
      "provenance": []
    },
    "kernelspec": {
      "name": "python3",
      "display_name": "Python 3"
    },
    "language_info": {
      "name": "python"
    }
  },
  "cells": [
    {
      "cell_type": "code",
      "execution_count": 17,
      "metadata": {
        "colab": {
          "base_uri": "https://localhost:8080/",
          "height": 703
        },
        "id": "a3Nc0qQNyVZr",
        "outputId": "30c8b862-e752-4376-a245-7f2ea4eb97c0"
      },
      "outputs": [
        {
          "output_type": "stream",
          "name": "stdout",
          "text": [
            "Calcule aqui sua porcentagem aproximada de gordura corporal.\n",
            "     1 - Calcular IMC (Índice de massa corporal)\n",
            "     2 - Calcular porcentagem de gordura corporal\n",
            "     3 - Sair\n",
            "Escolha uma opção: 1\n",
            "Digite seu peso: 54\n",
            "Digite sua altura: 1.70\n",
            " \n",
            "Seu IMC é: 18.69 - Normal.\n",
            " \n",
            " IMC -> Classificação\n",
            " Menor que 18,5 -> Magreza\n",
            " Entre 18,5 e 24,9 -> Normal\n",
            " Entre 25,0 e 29,9 -> Sobrepeso\n",
            " Entre 30,0 e 39,9 -> Obesidade\n",
            " Maior que 40,0 -> Obesidade Grave\n",
            " \n",
            "     1 - Calcular IMC (Índice de massa corporal)\n",
            "     2 - Calcular porcentagem de gordura corporal\n",
            "     3 - Sair\n"
          ]
        },
        {
          "output_type": "error",
          "ename": "KeyboardInterrupt",
          "evalue": "Interrupted by user",
          "traceback": [
            "\u001b[0;31m---------------------------------------------------------------------------\u001b[0m",
            "\u001b[0;31mKeyboardInterrupt\u001b[0m                         Traceback (most recent call last)",
            "\u001b[0;32m<ipython-input-17-4ef14f443d3b>\u001b[0m in \u001b[0;36m<cell line: 13>\u001b[0;34m()\u001b[0m\n\u001b[1;32m     15\u001b[0m     \u001b[0mprint\u001b[0m\u001b[0;34m(\u001b[0m\u001b[0;34m\"     2 - Calcular porcentagem de gordura corporal\"\u001b[0m\u001b[0;34m)\u001b[0m\u001b[0;34m\u001b[0m\u001b[0;34m\u001b[0m\u001b[0m\n\u001b[1;32m     16\u001b[0m     \u001b[0mprint\u001b[0m\u001b[0;34m(\u001b[0m\u001b[0;34m\"     3 - Sair\"\u001b[0m\u001b[0;34m)\u001b[0m\u001b[0;34m\u001b[0m\u001b[0;34m\u001b[0m\u001b[0m\n\u001b[0;32m---> 17\u001b[0;31m     \u001b[0mopcao\u001b[0m \u001b[0;34m=\u001b[0m \u001b[0minput\u001b[0m\u001b[0;34m(\u001b[0m\u001b[0;34m\"Escolha uma opção: \"\u001b[0m\u001b[0;34m)\u001b[0m\u001b[0;34m\u001b[0m\u001b[0;34m\u001b[0m\u001b[0m\n\u001b[0m\u001b[1;32m     18\u001b[0m \u001b[0;34m\u001b[0m\u001b[0m\n\u001b[1;32m     19\u001b[0m     \u001b[0;32mif\u001b[0m \u001b[0mopcao\u001b[0m \u001b[0;34m==\u001b[0m \u001b[0;34m\"1\"\u001b[0m\u001b[0;34m:\u001b[0m\u001b[0;34m\u001b[0m\u001b[0;34m\u001b[0m\u001b[0m\n",
            "\u001b[0;32m/usr/local/lib/python3.10/dist-packages/ipykernel/kernelbase.py\u001b[0m in \u001b[0;36mraw_input\u001b[0;34m(self, prompt)\u001b[0m\n\u001b[1;32m    849\u001b[0m                 \u001b[0;34m\"raw_input was called, but this frontend does not support input requests.\"\u001b[0m\u001b[0;34m\u001b[0m\u001b[0;34m\u001b[0m\u001b[0m\n\u001b[1;32m    850\u001b[0m             )\n\u001b[0;32m--> 851\u001b[0;31m         return self._input_request(str(prompt),\n\u001b[0m\u001b[1;32m    852\u001b[0m             \u001b[0mself\u001b[0m\u001b[0;34m.\u001b[0m\u001b[0m_parent_ident\u001b[0m\u001b[0;34m,\u001b[0m\u001b[0;34m\u001b[0m\u001b[0;34m\u001b[0m\u001b[0m\n\u001b[1;32m    853\u001b[0m             \u001b[0mself\u001b[0m\u001b[0;34m.\u001b[0m\u001b[0m_parent_header\u001b[0m\u001b[0;34m,\u001b[0m\u001b[0;34m\u001b[0m\u001b[0;34m\u001b[0m\u001b[0m\n",
            "\u001b[0;32m/usr/local/lib/python3.10/dist-packages/ipykernel/kernelbase.py\u001b[0m in \u001b[0;36m_input_request\u001b[0;34m(self, prompt, ident, parent, password)\u001b[0m\n\u001b[1;32m    893\u001b[0m             \u001b[0;32mexcept\u001b[0m \u001b[0mKeyboardInterrupt\u001b[0m\u001b[0;34m:\u001b[0m\u001b[0;34m\u001b[0m\u001b[0;34m\u001b[0m\u001b[0m\n\u001b[1;32m    894\u001b[0m                 \u001b[0;31m# re-raise KeyboardInterrupt, to truncate traceback\u001b[0m\u001b[0;34m\u001b[0m\u001b[0;34m\u001b[0m\u001b[0m\n\u001b[0;32m--> 895\u001b[0;31m                 \u001b[0;32mraise\u001b[0m \u001b[0mKeyboardInterrupt\u001b[0m\u001b[0;34m(\u001b[0m\u001b[0;34m\"Interrupted by user\"\u001b[0m\u001b[0;34m)\u001b[0m \u001b[0;32mfrom\u001b[0m \u001b[0;32mNone\u001b[0m\u001b[0;34m\u001b[0m\u001b[0;34m\u001b[0m\u001b[0m\n\u001b[0m\u001b[1;32m    896\u001b[0m             \u001b[0;32mexcept\u001b[0m \u001b[0mException\u001b[0m \u001b[0;32mas\u001b[0m \u001b[0me\u001b[0m\u001b[0;34m:\u001b[0m\u001b[0;34m\u001b[0m\u001b[0;34m\u001b[0m\u001b[0m\n\u001b[1;32m    897\u001b[0m                 \u001b[0mself\u001b[0m\u001b[0;34m.\u001b[0m\u001b[0mlog\u001b[0m\u001b[0;34m.\u001b[0m\u001b[0mwarning\u001b[0m\u001b[0;34m(\u001b[0m\u001b[0;34m\"Invalid Message:\"\u001b[0m\u001b[0;34m,\u001b[0m \u001b[0mexc_info\u001b[0m\u001b[0;34m=\u001b[0m\u001b[0;32mTrue\u001b[0m\u001b[0;34m)\u001b[0m\u001b[0;34m\u001b[0m\u001b[0;34m\u001b[0m\u001b[0m\n",
            "\u001b[0;31mKeyboardInterrupt\u001b[0m: Interrupted by user"
          ]
        }
      ],
      "source": [
        "# BT= (1,20 x IMC) + (0,23 x IDADE) - (10,8 X SEXO) - 5,4\n",
        "# PESO ÷ (ALTURA X ALTURA)\n",
        "\n",
        "\n",
        "print(\"Calcule aqui sua porcentagem aproximada de gordura corporal.\")\n",
        "\n",
        "menu_ativo = True\n",
        "idade = 0\n",
        "sexo = 10\n",
        "imc = 0\n",
        "\n",
        "\n",
        "while menu_ativo:\n",
        "    print(\"     1 - Calcular IMC (Índice de massa corporal)\")\n",
        "    print(\"     2 - Calcular porcentagem de gordura corporal\")\n",
        "    print(\"     3 - Sair\")\n",
        "    opcao = input(\"Escolha uma opção: \")\n",
        "\n",
        "    if opcao == \"1\":\n",
        "        peso = float(input(\"Digite seu peso: \"))\n",
        "        altura = float(input(\"Digite sua altura: \"))\n",
        "        imc = peso / (altura * altura)\n",
        "        if imc < 18.5:\n",
        "            imc_class = \"Magreza\"\n",
        "        elif imc >= 18.5 and imc <= 24.9:\n",
        "            imc_class = \"Normal\"\n",
        "        elif imc >= 25.0 and imc <= 29.9:\n",
        "            imc_class = \"Sobrepeso\"\n",
        "        elif imc >= 30.0 and imc <= 39.9:\n",
        "            imc_class = \"Obesidade\"\n",
        "        else:\n",
        "            imc_class = \"Obesidade grave\"\n",
        "        print(\" \")\n",
        "        print(f\"Seu IMC é: {imc:.2f} -> {imc_class}.\")\n",
        "        print(\" \")\n",
        "        print(\" IMC -> Classificação\")\n",
        "        print(\" Menor que 18,5 -> Magreza\")\n",
        "        print(\" Entre 18,5 e 24,9 -> Normal\")\n",
        "        print(\" Entre 25,0 e 29,9 -> Sobrepeso\")\n",
        "        print(\" Entre 30,0 e 39,9 -> Obesidade\")\n",
        "        print(\" Maior que 40,0 -> Obesidade Grave\")\n",
        "        print(\" \")\n",
        "\n",
        "    if opcao == \"2\":\n",
        "        if imc != 0:\n",
        "            if idade == 0:\n",
        "                idade = int(input(\"Digite sua idade: \"))\n",
        "                if sexo == 10:\n",
        "                    sexo = input(\"Digite seu sexo (M/F): \")\n",
        "                    if sexo == \"M\":\n",
        "                        sexo = 1\n",
        "                    else:\n",
        "                        sexo = 0\n",
        "                    BT = (1.20 * imc) + (0.23 * idade) - (10.8 * sexo) - 5.4\n",
        "                    print(f\"Sua porcentagem de gordura corporal aproximada é de {BT:.2f}%\")\n",
        "                    print(\"Nos homens, o percentual saudável fica entre 18% e 21%. O considerado excelente costuma ficar abaixo de 12%. Na faixa de 12% a 17%, é considerado um nível bom ou ótimo. Já acima de 22% prejudicial à saúde.\")\n",
        "                    print(\"Em mulheres, o percentual saudável fica entre 18% e 22%. Já entre 15% e 18%, o percentual é considerado ótimo, como costuma ser nos atletas. Acima de 22% moderado e acima 25% prejudicial para a saúde.\")\n",
        "                    menu_ativo = False\n",
        "\n",
        "        else:\n",
        "            print(\"Você precisa calcular seu IMC primeiro.\")\n",
        "\n",
        "    if opcao == \"3\":\n",
        "        menu_ativo = False\n"
      ]
    }
  ]
}